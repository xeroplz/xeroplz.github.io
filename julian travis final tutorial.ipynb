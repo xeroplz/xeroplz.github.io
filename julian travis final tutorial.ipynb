{
 "cells": [
  {
   "cell_type": "markdown",
   "id": "bearing-conspiracy",
   "metadata": {},
   "source": [
    "# Final Fantasy XIV Online - Suffering From Success\n",
    "\n",
    "### By: Julian Travis\n",
    "\n",
    "Group Contribution Statement: This is a solo project. Julian completed this project on his own."
   ]
  },
  {
   "cell_type": "markdown",
   "id": "powerful-binding",
   "metadata": {},
   "source": [
    "## Introduction\n",
    "\n",
    "Final Fantasy XIV Online (FFXIV) is one of the biggest, if not already the biggest MMORPG (Massively Multiplayer Online Role-Playing Game) on the planet. Recently, with the release of their latest \"Endwalker\" expansion on December 3, 2021, the game's popularity has surged to the point at which it has begun to *negatively* affect Square Enix (the publisher) and the game's players.\n",
    "\n",
    "There are so many people trying to play the game every day that at peak hours, players are stuck in over 5,000 person queues just to log into the game! There have been other instances in which the game has had massive queue numbers, including previous expansions and special cases like popular streamers trying out the game.\n",
    "\n",
    "A specific case of this would be the massive World of Warcraft streamer Asmongold trying the game in July of 2021. This brought so many players to the game that one of the North American data centers for the game became extremely congested; new characters could not be made on it at all. The development team said they would like to address such congestion before the release of Endwalker, but with the advent of COVID-19 and the subsequent collapse of the semiconductor market, they could not upgrade their servers.\n",
    "\n",
    "This project aims to analyze the growth of the game over the course of its past expansions and predict how congested the game will get by its next expansion in 2023 (a new expansion is released every 2 years with the game's current track record).\n",
    "\n",
    "The game can be accessed through 2 different methods:\n",
    "1. The game's official launcher.\n",
    "2. Steam, a PC-oriented gaming platform.\n",
    "\n",
    "There is no way to obtain data on players who play through the official launcher, but for those playing through steam, a website called SteamDB keeps track of player records. **As such, we will be using the data from SteamDB and assuming that roughly 50% of players play through steam, while the others use the official launcher instead.**\n",
    "\n",
    "The SteamDB data can be found here:\n",
    "https://steamdb.info/app/39210/graphs/\n",
    "\n",
    "**Note: To see the full chart in the above website, you must be logged into Steam.**\n",
    "\n",
    "I have uploaded a mirror of the full chart to my GitHub page for this project as well:\n",
    "https://raw.githubusercontent.com/xeroplz/xeroplz.github.io/main/res/ffxiv_steam_chart.csv"
   ]
  },
  {
   "cell_type": "markdown",
   "id": "cordless-dealing",
   "metadata": {},
   "source": [
    "## Part 1 - Parsing the Data\n",
    "\n",
    "Our dataset is contained in a simple CSV file, with columns titled Datetime, Players, Twitch Viewers, and Flags. It contains periodic entries from February 1, 2014 to December 17, 2021.\n",
    "\n",
    "\n",
    "The Datetime is the date and time of the recorded entry. \n",
    "\n",
    "\n",
    "Players is the concurrent players at the given time. \n",
    "\n",
    "\n",
    "Twitch Viewers is the maximum concurrent Twitch.tv viewers for the game at that time.\n",
    "\n",
    "\n",
    "Flags is an extra label likely used by other charts, but not ours; it is completely empty.\n",
    "\n",
    "\n",
    "The Twitch Viewers column is not necessary for our analysis, but it will be used to provide insight into certain player spikes, just like the aformentioned incident with Asmongold."
   ]
  },
  {
   "cell_type": "code",
   "execution_count": 1,
   "id": "awful-borough",
   "metadata": {},
   "outputs": [],
   "source": [
    "# Import necessary packages\n",
    "import numpy as np\n",
    "import pandas as pd\n",
    "import requests\n",
    "import matplotlib.pyplot as plt\n",
    "import seaborn as sns\n",
    "import math\n",
    "from datetime import datetime\n",
    "from scipy import stats"
   ]
  },
  {
   "cell_type": "code",
   "execution_count": 2,
   "id": "starting-world",
   "metadata": {},
   "outputs": [
    {
     "data": {
      "text/html": [
       "<div>\n",
       "<style scoped>\n",
       "    .dataframe tbody tr th:only-of-type {\n",
       "        vertical-align: middle;\n",
       "    }\n",
       "\n",
       "    .dataframe tbody tr th {\n",
       "        vertical-align: top;\n",
       "    }\n",
       "\n",
       "    .dataframe thead th {\n",
       "        text-align: right;\n",
       "    }\n",
       "</style>\n",
       "<table border=\"1\" class=\"dataframe\">\n",
       "  <thead>\n",
       "    <tr style=\"text-align: right;\">\n",
       "      <th></th>\n",
       "      <th>DateTime</th>\n",
       "      <th>Players</th>\n",
       "      <th>Twitch Viewers</th>\n",
       "      <th>Flags</th>\n",
       "    </tr>\n",
       "  </thead>\n",
       "  <tbody>\n",
       "    <tr>\n",
       "      <th>0</th>\n",
       "      <td>2014-02-01 00:00:00</td>\n",
       "      <td>7401.0</td>\n",
       "      <td>NaN</td>\n",
       "      <td>NaN</td>\n",
       "    </tr>\n",
       "    <tr>\n",
       "      <th>1</th>\n",
       "      <td>2014-02-02 00:00:00</td>\n",
       "      <td>NaN</td>\n",
       "      <td>NaN</td>\n",
       "      <td>NaN</td>\n",
       "    </tr>\n",
       "    <tr>\n",
       "      <th>2</th>\n",
       "      <td>2014-02-03 00:00:00</td>\n",
       "      <td>NaN</td>\n",
       "      <td>NaN</td>\n",
       "      <td>NaN</td>\n",
       "    </tr>\n",
       "    <tr>\n",
       "      <th>3</th>\n",
       "      <td>2014-02-04 00:00:00</td>\n",
       "      <td>NaN</td>\n",
       "      <td>NaN</td>\n",
       "      <td>NaN</td>\n",
       "    </tr>\n",
       "    <tr>\n",
       "      <th>4</th>\n",
       "      <td>2014-02-05 00:00:00</td>\n",
       "      <td>NaN</td>\n",
       "      <td>NaN</td>\n",
       "      <td>NaN</td>\n",
       "    </tr>\n",
       "    <tr>\n",
       "      <th>5</th>\n",
       "      <td>2014-02-06 00:00:00</td>\n",
       "      <td>NaN</td>\n",
       "      <td>NaN</td>\n",
       "      <td>NaN</td>\n",
       "    </tr>\n",
       "    <tr>\n",
       "      <th>6</th>\n",
       "      <td>2014-02-07 00:00:00</td>\n",
       "      <td>NaN</td>\n",
       "      <td>NaN</td>\n",
       "      <td>NaN</td>\n",
       "    </tr>\n",
       "    <tr>\n",
       "      <th>7</th>\n",
       "      <td>2014-02-08 00:00:00</td>\n",
       "      <td>NaN</td>\n",
       "      <td>NaN</td>\n",
       "      <td>NaN</td>\n",
       "    </tr>\n",
       "    <tr>\n",
       "      <th>8</th>\n",
       "      <td>2014-02-09 00:00:00</td>\n",
       "      <td>NaN</td>\n",
       "      <td>NaN</td>\n",
       "      <td>NaN</td>\n",
       "    </tr>\n",
       "    <tr>\n",
       "      <th>9</th>\n",
       "      <td>2014-02-10 00:00:00</td>\n",
       "      <td>NaN</td>\n",
       "      <td>NaN</td>\n",
       "      <td>NaN</td>\n",
       "    </tr>\n",
       "  </tbody>\n",
       "</table>\n",
       "</div>"
      ],
      "text/plain": [
       "              DateTime  Players  Twitch Viewers  Flags\n",
       "0  2014-02-01 00:00:00   7401.0             NaN    NaN\n",
       "1  2014-02-02 00:00:00      NaN             NaN    NaN\n",
       "2  2014-02-03 00:00:00      NaN             NaN    NaN\n",
       "3  2014-02-04 00:00:00      NaN             NaN    NaN\n",
       "4  2014-02-05 00:00:00      NaN             NaN    NaN\n",
       "5  2014-02-06 00:00:00      NaN             NaN    NaN\n",
       "6  2014-02-07 00:00:00      NaN             NaN    NaN\n",
       "7  2014-02-08 00:00:00      NaN             NaN    NaN\n",
       "8  2014-02-09 00:00:00      NaN             NaN    NaN\n",
       "9  2014-02-10 00:00:00      NaN             NaN    NaN"
      ]
     },
     "execution_count": 2,
     "metadata": {},
     "output_type": "execute_result"
    }
   ],
   "source": [
    "# Retrieve data from CSV file\n",
    "data = pd.read_csv(\"res/ffxiv_steam_chart.csv\")\n",
    "data.head(10)"
   ]
  },
  {
   "cell_type": "markdown",
   "id": "hawaiian-lender",
   "metadata": {},
   "source": [
    "To get this data into a form ready for analysis and graphing, we need to make a new column that is represented as an offset from the first day of the game's operation (02/01/2014).\n",
    "\n",
    "We also need to drop the Flags, column, and replace all of the NaN values in the other columns with 0."
   ]
  },
  {
   "cell_type": "code",
   "execution_count": 3,
   "id": "permanent-mozambique",
   "metadata": {},
   "outputs": [
    {
     "data": {
      "text/html": [
       "<div>\n",
       "<style scoped>\n",
       "    .dataframe tbody tr th:only-of-type {\n",
       "        vertical-align: middle;\n",
       "    }\n",
       "\n",
       "    .dataframe tbody tr th {\n",
       "        vertical-align: top;\n",
       "    }\n",
       "\n",
       "    .dataframe thead th {\n",
       "        text-align: right;\n",
       "    }\n",
       "</style>\n",
       "<table border=\"1\" class=\"dataframe\">\n",
       "  <thead>\n",
       "    <tr style=\"text-align: right;\">\n",
       "      <th></th>\n",
       "      <th>DateTime</th>\n",
       "      <th>Players</th>\n",
       "      <th>Twitch Viewers</th>\n",
       "    </tr>\n",
       "  </thead>\n",
       "  <tbody>\n",
       "    <tr>\n",
       "      <th>0</th>\n",
       "      <td>2014-02-01 00:00:00</td>\n",
       "      <td>7401.0</td>\n",
       "      <td>0.0</td>\n",
       "    </tr>\n",
       "    <tr>\n",
       "      <th>1</th>\n",
       "      <td>2014-02-02 00:00:00</td>\n",
       "      <td>0.0</td>\n",
       "      <td>0.0</td>\n",
       "    </tr>\n",
       "    <tr>\n",
       "      <th>2</th>\n",
       "      <td>2014-02-03 00:00:00</td>\n",
       "      <td>0.0</td>\n",
       "      <td>0.0</td>\n",
       "    </tr>\n",
       "    <tr>\n",
       "      <th>3</th>\n",
       "      <td>2014-02-04 00:00:00</td>\n",
       "      <td>0.0</td>\n",
       "      <td>0.0</td>\n",
       "    </tr>\n",
       "    <tr>\n",
       "      <th>4</th>\n",
       "      <td>2014-02-05 00:00:00</td>\n",
       "      <td>0.0</td>\n",
       "      <td>0.0</td>\n",
       "    </tr>\n",
       "    <tr>\n",
       "      <th>5</th>\n",
       "      <td>2014-02-06 00:00:00</td>\n",
       "      <td>0.0</td>\n",
       "      <td>0.0</td>\n",
       "    </tr>\n",
       "    <tr>\n",
       "      <th>6</th>\n",
       "      <td>2014-02-07 00:00:00</td>\n",
       "      <td>0.0</td>\n",
       "      <td>0.0</td>\n",
       "    </tr>\n",
       "    <tr>\n",
       "      <th>7</th>\n",
       "      <td>2014-02-08 00:00:00</td>\n",
       "      <td>0.0</td>\n",
       "      <td>0.0</td>\n",
       "    </tr>\n",
       "    <tr>\n",
       "      <th>8</th>\n",
       "      <td>2014-02-09 00:00:00</td>\n",
       "      <td>0.0</td>\n",
       "      <td>0.0</td>\n",
       "    </tr>\n",
       "    <tr>\n",
       "      <th>9</th>\n",
       "      <td>2014-02-10 00:00:00</td>\n",
       "      <td>0.0</td>\n",
       "      <td>0.0</td>\n",
       "    </tr>\n",
       "  </tbody>\n",
       "</table>\n",
       "</div>"
      ],
      "text/plain": [
       "              DateTime  Players  Twitch Viewers\n",
       "0  2014-02-01 00:00:00   7401.0             0.0\n",
       "1  2014-02-02 00:00:00      0.0             0.0\n",
       "2  2014-02-03 00:00:00      0.0             0.0\n",
       "3  2014-02-04 00:00:00      0.0             0.0\n",
       "4  2014-02-05 00:00:00      0.0             0.0\n",
       "5  2014-02-06 00:00:00      0.0             0.0\n",
       "6  2014-02-07 00:00:00      0.0             0.0\n",
       "7  2014-02-08 00:00:00      0.0             0.0\n",
       "8  2014-02-09 00:00:00      0.0             0.0\n",
       "9  2014-02-10 00:00:00      0.0             0.0"
      ]
     },
     "execution_count": 3,
     "metadata": {},
     "output_type": "execute_result"
    }
   ],
   "source": [
    "data = data.drop(['Flags'], axis=1)\n",
    "data.head(10)\n",
    "\n",
    "for index, row in data.iterrows():\n",
    "    if math.isnan(data.at[index, 'Players']):\n",
    "        data.at[index, 'Players'] = 0.0\n",
    "        \n",
    "    if math.isnan(data.at[index, 'Twitch Viewers']):\n",
    "        data.at[index, 'Twitch Viewers'] = 0.0\n",
    "        \n",
    "data.head(10)"
   ]
  },
  {
   "cell_type": "code",
   "execution_count": 4,
   "id": "operational-intro",
   "metadata": {},
   "outputs": [
    {
     "data": {
      "text/plain": [
       "str"
      ]
     },
     "execution_count": 4,
     "metadata": {},
     "output_type": "execute_result"
    }
   ],
   "source": [
    "type(data.at[0, 'DateTime'])"
   ]
  },
  {
   "cell_type": "markdown",
   "id": "julian-mention",
   "metadata": {},
   "source": [
    "The DateTime column is also seemingly full of strings, so we need to convert these values to datetimes for our future calculations."
   ]
  },
  {
   "cell_type": "code",
   "execution_count": 5,
   "id": "optical-israeli",
   "metadata": {},
   "outputs": [
    {
     "name": "stdout",
     "output_type": "stream",
     "text": [
      "New DateTime column type: <class 'datetime.datetime'>\n"
     ]
    }
   ],
   "source": [
    "for index, row in data.iterrows():\n",
    "    date_val =  str(data.at[index, 'DateTime'])\n",
    "    data.at[index, 'DateTime'] = datetime.strptime(date_val,\\\n",
    "        '%Y-%m-%d %H:%M:%S')\n",
    "\n",
    "print('New DateTime column type: ' + str(type(data.at[0, 'DateTime'])))"
   ]
  },
  {
   "cell_type": "markdown",
   "id": "vocational-greeting",
   "metadata": {},
   "source": [
    "Now, we must finally add a date offset column to the table for our future plotting."
   ]
  },
  {
   "cell_type": "code",
   "execution_count": 6,
   "id": "western-praise",
   "metadata": {},
   "outputs": [
    {
     "data": {
      "text/html": [
       "<div>\n",
       "<style scoped>\n",
       "    .dataframe tbody tr th:only-of-type {\n",
       "        vertical-align: middle;\n",
       "    }\n",
       "\n",
       "    .dataframe tbody tr th {\n",
       "        vertical-align: top;\n",
       "    }\n",
       "\n",
       "    .dataframe thead th {\n",
       "        text-align: right;\n",
       "    }\n",
       "</style>\n",
       "<table border=\"1\" class=\"dataframe\">\n",
       "  <thead>\n",
       "    <tr style=\"text-align: right;\">\n",
       "      <th></th>\n",
       "      <th>DateTime</th>\n",
       "      <th>Days From Launch</th>\n",
       "      <th>Players</th>\n",
       "      <th>Twitch Viewers</th>\n",
       "    </tr>\n",
       "  </thead>\n",
       "  <tbody>\n",
       "    <tr>\n",
       "      <th>0</th>\n",
       "      <td>2014-02-01 00:00:00</td>\n",
       "      <td>NaN</td>\n",
       "      <td>7401.0</td>\n",
       "      <td>0.0</td>\n",
       "    </tr>\n",
       "    <tr>\n",
       "      <th>1</th>\n",
       "      <td>2014-02-02 00:00:00</td>\n",
       "      <td>NaN</td>\n",
       "      <td>0.0</td>\n",
       "      <td>0.0</td>\n",
       "    </tr>\n",
       "    <tr>\n",
       "      <th>2</th>\n",
       "      <td>2014-02-03 00:00:00</td>\n",
       "      <td>NaN</td>\n",
       "      <td>0.0</td>\n",
       "      <td>0.0</td>\n",
       "    </tr>\n",
       "    <tr>\n",
       "      <th>3</th>\n",
       "      <td>2014-02-04 00:00:00</td>\n",
       "      <td>NaN</td>\n",
       "      <td>0.0</td>\n",
       "      <td>0.0</td>\n",
       "    </tr>\n",
       "    <tr>\n",
       "      <th>4</th>\n",
       "      <td>2014-02-05 00:00:00</td>\n",
       "      <td>NaN</td>\n",
       "      <td>0.0</td>\n",
       "      <td>0.0</td>\n",
       "    </tr>\n",
       "    <tr>\n",
       "      <th>5</th>\n",
       "      <td>2014-02-06 00:00:00</td>\n",
       "      <td>NaN</td>\n",
       "      <td>0.0</td>\n",
       "      <td>0.0</td>\n",
       "    </tr>\n",
       "    <tr>\n",
       "      <th>6</th>\n",
       "      <td>2014-02-07 00:00:00</td>\n",
       "      <td>NaN</td>\n",
       "      <td>0.0</td>\n",
       "      <td>0.0</td>\n",
       "    </tr>\n",
       "    <tr>\n",
       "      <th>7</th>\n",
       "      <td>2014-02-08 00:00:00</td>\n",
       "      <td>NaN</td>\n",
       "      <td>0.0</td>\n",
       "      <td>0.0</td>\n",
       "    </tr>\n",
       "    <tr>\n",
       "      <th>8</th>\n",
       "      <td>2014-02-09 00:00:00</td>\n",
       "      <td>NaN</td>\n",
       "      <td>0.0</td>\n",
       "      <td>0.0</td>\n",
       "    </tr>\n",
       "    <tr>\n",
       "      <th>9</th>\n",
       "      <td>2014-02-10 00:00:00</td>\n",
       "      <td>NaN</td>\n",
       "      <td>0.0</td>\n",
       "      <td>0.0</td>\n",
       "    </tr>\n",
       "  </tbody>\n",
       "</table>\n",
       "</div>"
      ],
      "text/plain": [
       "              DateTime  Days From Launch  Players  Twitch Viewers\n",
       "0  2014-02-01 00:00:00               NaN   7401.0             0.0\n",
       "1  2014-02-02 00:00:00               NaN      0.0             0.0\n",
       "2  2014-02-03 00:00:00               NaN      0.0             0.0\n",
       "3  2014-02-04 00:00:00               NaN      0.0             0.0\n",
       "4  2014-02-05 00:00:00               NaN      0.0             0.0\n",
       "5  2014-02-06 00:00:00               NaN      0.0             0.0\n",
       "6  2014-02-07 00:00:00               NaN      0.0             0.0\n",
       "7  2014-02-08 00:00:00               NaN      0.0             0.0\n",
       "8  2014-02-09 00:00:00               NaN      0.0             0.0\n",
       "9  2014-02-10 00:00:00               NaN      0.0             0.0"
      ]
     },
     "execution_count": 6,
     "metadata": {},
     "output_type": "execute_result"
    }
   ],
   "source": [
    "data.insert(loc = 1, column = 'Days From Launch', value = np.nan)\n",
    "data.head(10)"
   ]
  },
  {
   "cell_type": "code",
   "execution_count": 7,
   "id": "solar-holiday",
   "metadata": {},
   "outputs": [
    {
     "data": {
      "text/html": [
       "<div>\n",
       "<style scoped>\n",
       "    .dataframe tbody tr th:only-of-type {\n",
       "        vertical-align: middle;\n",
       "    }\n",
       "\n",
       "    .dataframe tbody tr th {\n",
       "        vertical-align: top;\n",
       "    }\n",
       "\n",
       "    .dataframe thead th {\n",
       "        text-align: right;\n",
       "    }\n",
       "</style>\n",
       "<table border=\"1\" class=\"dataframe\">\n",
       "  <thead>\n",
       "    <tr style=\"text-align: right;\">\n",
       "      <th></th>\n",
       "      <th>DateTime</th>\n",
       "      <th>Days From Launch</th>\n",
       "      <th>Players</th>\n",
       "      <th>Twitch Viewers</th>\n",
       "    </tr>\n",
       "  </thead>\n",
       "  <tbody>\n",
       "    <tr>\n",
       "      <th>0</th>\n",
       "      <td>2014-02-01 00:00:00</td>\n",
       "      <td>0.0</td>\n",
       "      <td>7401.0</td>\n",
       "      <td>0.0</td>\n",
       "    </tr>\n",
       "    <tr>\n",
       "      <th>1</th>\n",
       "      <td>2014-02-02 00:00:00</td>\n",
       "      <td>1.0</td>\n",
       "      <td>0.0</td>\n",
       "      <td>0.0</td>\n",
       "    </tr>\n",
       "    <tr>\n",
       "      <th>2</th>\n",
       "      <td>2014-02-03 00:00:00</td>\n",
       "      <td>2.0</td>\n",
       "      <td>0.0</td>\n",
       "      <td>0.0</td>\n",
       "    </tr>\n",
       "    <tr>\n",
       "      <th>3</th>\n",
       "      <td>2014-02-04 00:00:00</td>\n",
       "      <td>3.0</td>\n",
       "      <td>0.0</td>\n",
       "      <td>0.0</td>\n",
       "    </tr>\n",
       "    <tr>\n",
       "      <th>4</th>\n",
       "      <td>2014-02-05 00:00:00</td>\n",
       "      <td>4.0</td>\n",
       "      <td>0.0</td>\n",
       "      <td>0.0</td>\n",
       "    </tr>\n",
       "    <tr>\n",
       "      <th>5</th>\n",
       "      <td>2014-02-06 00:00:00</td>\n",
       "      <td>5.0</td>\n",
       "      <td>0.0</td>\n",
       "      <td>0.0</td>\n",
       "    </tr>\n",
       "    <tr>\n",
       "      <th>6</th>\n",
       "      <td>2014-02-07 00:00:00</td>\n",
       "      <td>6.0</td>\n",
       "      <td>0.0</td>\n",
       "      <td>0.0</td>\n",
       "    </tr>\n",
       "    <tr>\n",
       "      <th>7</th>\n",
       "      <td>2014-02-08 00:00:00</td>\n",
       "      <td>7.0</td>\n",
       "      <td>0.0</td>\n",
       "      <td>0.0</td>\n",
       "    </tr>\n",
       "    <tr>\n",
       "      <th>8</th>\n",
       "      <td>2014-02-09 00:00:00</td>\n",
       "      <td>8.0</td>\n",
       "      <td>0.0</td>\n",
       "      <td>0.0</td>\n",
       "    </tr>\n",
       "    <tr>\n",
       "      <th>9</th>\n",
       "      <td>2014-02-10 00:00:00</td>\n",
       "      <td>9.0</td>\n",
       "      <td>0.0</td>\n",
       "      <td>0.0</td>\n",
       "    </tr>\n",
       "  </tbody>\n",
       "</table>\n",
       "</div>"
      ],
      "text/plain": [
       "              DateTime  Days From Launch  Players  Twitch Viewers\n",
       "0  2014-02-01 00:00:00               0.0   7401.0             0.0\n",
       "1  2014-02-02 00:00:00               1.0      0.0             0.0\n",
       "2  2014-02-03 00:00:00               2.0      0.0             0.0\n",
       "3  2014-02-04 00:00:00               3.0      0.0             0.0\n",
       "4  2014-02-05 00:00:00               4.0      0.0             0.0\n",
       "5  2014-02-06 00:00:00               5.0      0.0             0.0\n",
       "6  2014-02-07 00:00:00               6.0      0.0             0.0\n",
       "7  2014-02-08 00:00:00               7.0      0.0             0.0\n",
       "8  2014-02-09 00:00:00               8.0      0.0             0.0\n",
       "9  2014-02-10 00:00:00               9.0      0.0             0.0"
      ]
     },
     "execution_count": 7,
     "metadata": {},
     "output_type": "execute_result"
    }
   ],
   "source": [
    "launch_date = data.at[0, 'DateTime']\n",
    "\n",
    "for index, row in data.iterrows():\n",
    "    date_val = data.at[index, 'DateTime']\n",
    "    data.at[index, 'Days From Launch'] = (date_val - launch_date).days\n",
    "    \n",
    "data.head(10)"
   ]
  },
  {
   "cell_type": "markdown",
   "id": "daily-volunteer",
   "metadata": {},
   "source": [
    "The last thing we must worry about is days with their 'Players' value being 0. A peak concurrent player number of 0 means that the game is down, or in maintenance. These numbers would skew our calculations if they were to be included, as they would be massive outliers. They must be removed."
   ]
  },
  {
   "cell_type": "code",
   "execution_count": 8,
   "id": "sudden-hormone",
   "metadata": {},
   "outputs": [
    {
     "data": {
      "text/html": [
       "<div>\n",
       "<style scoped>\n",
       "    .dataframe tbody tr th:only-of-type {\n",
       "        vertical-align: middle;\n",
       "    }\n",
       "\n",
       "    .dataframe tbody tr th {\n",
       "        vertical-align: top;\n",
       "    }\n",
       "\n",
       "    .dataframe thead th {\n",
       "        text-align: right;\n",
       "    }\n",
       "</style>\n",
       "<table border=\"1\" class=\"dataframe\">\n",
       "  <thead>\n",
       "    <tr style=\"text-align: right;\">\n",
       "      <th></th>\n",
       "      <th>DateTime</th>\n",
       "      <th>Days From Launch</th>\n",
       "      <th>Players</th>\n",
       "      <th>Twitch Viewers</th>\n",
       "    </tr>\n",
       "  </thead>\n",
       "  <tbody>\n",
       "    <tr>\n",
       "      <th>0</th>\n",
       "      <td>2014-02-01 00:00:00</td>\n",
       "      <td>0.0</td>\n",
       "      <td>7401.0</td>\n",
       "      <td>0.0</td>\n",
       "    </tr>\n",
       "    <tr>\n",
       "      <th>16</th>\n",
       "      <td>2014-02-17 00:00:00</td>\n",
       "      <td>16.0</td>\n",
       "      <td>1302.0</td>\n",
       "      <td>0.0</td>\n",
       "    </tr>\n",
       "    <tr>\n",
       "      <th>17</th>\n",
       "      <td>2014-02-18 00:00:00</td>\n",
       "      <td>17.0</td>\n",
       "      <td>3027.0</td>\n",
       "      <td>0.0</td>\n",
       "    </tr>\n",
       "    <tr>\n",
       "      <th>18</th>\n",
       "      <td>2014-02-19 00:00:00</td>\n",
       "      <td>18.0</td>\n",
       "      <td>3018.0</td>\n",
       "      <td>0.0</td>\n",
       "    </tr>\n",
       "    <tr>\n",
       "      <th>19</th>\n",
       "      <td>2014-02-20 00:00:00</td>\n",
       "      <td>19.0</td>\n",
       "      <td>3736.0</td>\n",
       "      <td>0.0</td>\n",
       "    </tr>\n",
       "    <tr>\n",
       "      <th>20</th>\n",
       "      <td>2014-02-21 00:00:00</td>\n",
       "      <td>20.0</td>\n",
       "      <td>6090.0</td>\n",
       "      <td>0.0</td>\n",
       "    </tr>\n",
       "    <tr>\n",
       "      <th>21</th>\n",
       "      <td>2014-02-22 00:00:00</td>\n",
       "      <td>21.0</td>\n",
       "      <td>7401.0</td>\n",
       "      <td>0.0</td>\n",
       "    </tr>\n",
       "    <tr>\n",
       "      <th>22</th>\n",
       "      <td>2014-02-23 00:00:00</td>\n",
       "      <td>22.0</td>\n",
       "      <td>7439.0</td>\n",
       "      <td>0.0</td>\n",
       "    </tr>\n",
       "    <tr>\n",
       "      <th>23</th>\n",
       "      <td>2014-02-24 00:00:00</td>\n",
       "      <td>23.0</td>\n",
       "      <td>6491.0</td>\n",
       "      <td>0.0</td>\n",
       "    </tr>\n",
       "    <tr>\n",
       "      <th>24</th>\n",
       "      <td>2014-02-25 00:00:00</td>\n",
       "      <td>24.0</td>\n",
       "      <td>6547.0</td>\n",
       "      <td>0.0</td>\n",
       "    </tr>\n",
       "  </tbody>\n",
       "</table>\n",
       "</div>"
      ],
      "text/plain": [
       "               DateTime  Days From Launch  Players  Twitch Viewers\n",
       "0   2014-02-01 00:00:00               0.0   7401.0             0.0\n",
       "16  2014-02-17 00:00:00              16.0   1302.0             0.0\n",
       "17  2014-02-18 00:00:00              17.0   3027.0             0.0\n",
       "18  2014-02-19 00:00:00              18.0   3018.0             0.0\n",
       "19  2014-02-20 00:00:00              19.0   3736.0             0.0\n",
       "20  2014-02-21 00:00:00              20.0   6090.0             0.0\n",
       "21  2014-02-22 00:00:00              21.0   7401.0             0.0\n",
       "22  2014-02-23 00:00:00              22.0   7439.0             0.0\n",
       "23  2014-02-24 00:00:00              23.0   6491.0             0.0\n",
       "24  2014-02-25 00:00:00              24.0   6547.0             0.0"
      ]
     },
     "execution_count": 8,
     "metadata": {},
     "output_type": "execute_result"
    }
   ],
   "source": [
    "data = data[data.Players != 0]\n",
    "data.head(10)"
   ]
  },
  {
   "cell_type": "markdown",
   "id": "white-appendix",
   "metadata": {},
   "source": [
    "Finally, our data is ready to be used for analysis!"
   ]
  },
  {
   "cell_type": "markdown",
   "id": "acceptable-samba",
   "metadata": {},
   "source": [
    "## Part 2 - Analysis of Data\n",
    "\n",
    "First, we would like to simply take note of the largest concorrent player spikes in our entire chart, and see what specific events we can attribute to them.\n",
    "\n",
    "Our expected player spikes are on expansion launch days and major patches.\n",
    "\n",
    "For reference the expansions of FFXIV were released on the following days:\n",
    "- Heavensward (3.0): Early Access June 19, 2015 / Official Release June 23, 2015 \n",
    "- Stormblood (4.0): Early Access June 16, 2017 / Official Release June 20, 2017\n",
    "- Shadowbringers (5.0): Early Access June 28, 2019 / Official Release July 2, 2019\n",
    "- Endwalker (6.0): Early Access December 3, 2021 / Official Release December 7, 2021\n",
    "\n",
    "As such, we expect all 8 of those dates to appear as spikes in our data set when plotted. A noteworthy point is that we cannot simply look for the largest set of values in the chart, as the game's popularity has undoubtedly grown over the years. The number of players on the launch day of Heavensward may not even compare to a normal day towards the end of Shadowbringers. We must look for local spikes in the data instead.\n",
    "\n",
    "Expansions are not the only source of population growth, as previously mentioned. Special cases like massive twitch streamers joining the game are also a source of growth, so we will be analyzing that data as well.\n",
    "\n",
    "To start, let's find the days listed in our expansion references above. We need a good identifier for the release dates, so let's calculate the days from launch for our targets.\n",
    "\n",
    "Days From Launch:\n",
    "- Heavensward: EA = 503 Days / OR = 507 Days\n",
    "- Stormblood: EA = 1231 Days / OR = 1235 Days\n",
    "- Shadowbringers: EA = 1973 Days / OR = 1977 Days\n",
    "- Endwalker: EA = 2862 Days / OR = 2866 Days"
   ]
  },
  {
   "cell_type": "code",
   "execution_count": 9,
   "id": "favorite-harvey",
   "metadata": {},
   "outputs": [
    {
     "data": {
      "text/html": [
       "<div>\n",
       "<style scoped>\n",
       "    .dataframe tbody tr th:only-of-type {\n",
       "        vertical-align: middle;\n",
       "    }\n",
       "\n",
       "    .dataframe tbody tr th {\n",
       "        vertical-align: top;\n",
       "    }\n",
       "\n",
       "    .dataframe thead th {\n",
       "        text-align: right;\n",
       "    }\n",
       "</style>\n",
       "<table border=\"1\" class=\"dataframe\">\n",
       "  <thead>\n",
       "    <tr style=\"text-align: right;\">\n",
       "      <th></th>\n",
       "      <th>DateTime</th>\n",
       "      <th>Days From Launch</th>\n",
       "      <th>Players</th>\n",
       "      <th>Twitch Viewers</th>\n",
       "    </tr>\n",
       "  </thead>\n",
       "  <tbody>\n",
       "    <tr>\n",
       "      <th>503</th>\n",
       "      <td>2015-06-19 00:00:00</td>\n",
       "      <td>503.0</td>\n",
       "      <td>10838.0</td>\n",
       "      <td>0.0</td>\n",
       "    </tr>\n",
       "    <tr>\n",
       "      <th>507</th>\n",
       "      <td>2015-06-23 00:00:00</td>\n",
       "      <td>507.0</td>\n",
       "      <td>10598.0</td>\n",
       "      <td>0.0</td>\n",
       "    </tr>\n",
       "    <tr>\n",
       "      <th>1231</th>\n",
       "      <td>2017-06-16 00:00:00</td>\n",
       "      <td>1231.0</td>\n",
       "      <td>22451.0</td>\n",
       "      <td>29185.0</td>\n",
       "    </tr>\n",
       "    <tr>\n",
       "      <th>1235</th>\n",
       "      <td>2017-06-20 00:00:00</td>\n",
       "      <td>1235.0</td>\n",
       "      <td>22471.0</td>\n",
       "      <td>30609.0</td>\n",
       "    </tr>\n",
       "    <tr>\n",
       "      <th>1973</th>\n",
       "      <td>2019-06-28 00:00:00</td>\n",
       "      <td>1973.0</td>\n",
       "      <td>35077.0</td>\n",
       "      <td>31253.0</td>\n",
       "    </tr>\n",
       "    <tr>\n",
       "      <th>1977</th>\n",
       "      <td>2019-07-02 00:00:00</td>\n",
       "      <td>1977.0</td>\n",
       "      <td>33878.0</td>\n",
       "      <td>17255.0</td>\n",
       "    </tr>\n",
       "    <tr>\n",
       "      <th>2862</th>\n",
       "      <td>2021-12-03 00:00:00</td>\n",
       "      <td>2862.0</td>\n",
       "      <td>87831.0</td>\n",
       "      <td>81650.0</td>\n",
       "    </tr>\n",
       "    <tr>\n",
       "      <th>2866</th>\n",
       "      <td>2021-12-07 00:00:00</td>\n",
       "      <td>2866.0</td>\n",
       "      <td>86965.0</td>\n",
       "      <td>28545.0</td>\n",
       "    </tr>\n",
       "  </tbody>\n",
       "</table>\n",
       "</div>"
      ],
      "text/plain": [
       "                 DateTime  Days From Launch  Players  Twitch Viewers\n",
       "503   2015-06-19 00:00:00             503.0  10838.0             0.0\n",
       "507   2015-06-23 00:00:00             507.0  10598.0             0.0\n",
       "1231  2017-06-16 00:00:00            1231.0  22451.0         29185.0\n",
       "1235  2017-06-20 00:00:00            1235.0  22471.0         30609.0\n",
       "1973  2019-06-28 00:00:00            1973.0  35077.0         31253.0\n",
       "1977  2019-07-02 00:00:00            1977.0  33878.0         17255.0\n",
       "2862  2021-12-03 00:00:00            2862.0  87831.0         81650.0\n",
       "2866  2021-12-07 00:00:00            2866.0  86965.0         28545.0"
      ]
     },
     "execution_count": 9,
     "metadata": {},
     "output_type": "execute_result"
    }
   ],
   "source": [
    "launch_days = [503, 507, 1231, 1235, 1973, 1977, 2862, 2866]\n",
    "data[data['Days From Launch'].isin(launch_days)]"
   ]
  },
  {
   "cell_type": "markdown",
   "id": "hourly-sellers",
   "metadata": {},
   "source": [
    "We can clearly see that the game's popularity has indeed grown over time. The amount of concurrent players on the Heavensward launch day is only an 8th of those no the Endwalker launch day. We must detect a trend in growth between these values.\n",
    "\n",
    "We also must detect the largest 'Twitch Viewers' values that do **not** occur on the dates we just listed above; this will give us more points to accurately analyze and predict future populations for the game.."
   ]
  },
  {
   "cell_type": "code",
   "execution_count": 10,
   "id": "minus-insight",
   "metadata": {},
   "outputs": [
    {
     "data": {
      "text/html": [
       "<div>\n",
       "<style scoped>\n",
       "    .dataframe tbody tr th:only-of-type {\n",
       "        vertical-align: middle;\n",
       "    }\n",
       "\n",
       "    .dataframe tbody tr th {\n",
       "        vertical-align: top;\n",
       "    }\n",
       "\n",
       "    .dataframe thead th {\n",
       "        text-align: right;\n",
       "    }\n",
       "</style>\n",
       "<table border=\"1\" class=\"dataframe\">\n",
       "  <thead>\n",
       "    <tr style=\"text-align: right;\">\n",
       "      <th></th>\n",
       "      <th>DateTime</th>\n",
       "      <th>Days From Launch</th>\n",
       "      <th>Players</th>\n",
       "      <th>Twitch Viewers</th>\n",
       "    </tr>\n",
       "  </thead>\n",
       "  <tbody>\n",
       "    <tr>\n",
       "      <th>2709</th>\n",
       "      <td>2021-07-03 00:00:00</td>\n",
       "      <td>2709.0</td>\n",
       "      <td>42068.0</td>\n",
       "      <td>221605.0</td>\n",
       "    </tr>\n",
       "    <tr>\n",
       "      <th>2710</th>\n",
       "      <td>2021-07-04 00:00:00</td>\n",
       "      <td>2710.0</td>\n",
       "      <td>47542.0</td>\n",
       "      <td>199007.0</td>\n",
       "    </tr>\n",
       "    <tr>\n",
       "      <th>2717</th>\n",
       "      <td>2021-07-11 00:00:00</td>\n",
       "      <td>2717.0</td>\n",
       "      <td>58046.0</td>\n",
       "      <td>162904.0</td>\n",
       "    </tr>\n",
       "    <tr>\n",
       "      <th>2562</th>\n",
       "      <td>2021-02-06 00:00:00</td>\n",
       "      <td>2562.0</td>\n",
       "      <td>30680.0</td>\n",
       "      <td>149220.0</td>\n",
       "    </tr>\n",
       "    <tr>\n",
       "      <th>2660</th>\n",
       "      <td>2021-05-15 00:00:00</td>\n",
       "      <td>2660.0</td>\n",
       "      <td>32324.0</td>\n",
       "      <td>144282.0</td>\n",
       "    </tr>\n",
       "    <tr>\n",
       "      <th>2724</th>\n",
       "      <td>2021-07-18 00:00:00</td>\n",
       "      <td>2724.0</td>\n",
       "      <td>67148.0</td>\n",
       "      <td>140160.0</td>\n",
       "    </tr>\n",
       "    <tr>\n",
       "      <th>1876</th>\n",
       "      <td>2019-03-23 00:00:00</td>\n",
       "      <td>1876.0</td>\n",
       "      <td>14242.0</td>\n",
       "      <td>134069.0</td>\n",
       "    </tr>\n",
       "    <tr>\n",
       "      <th>2786</th>\n",
       "      <td>2021-09-18 00:00:00</td>\n",
       "      <td>2786.0</td>\n",
       "      <td>47927.0</td>\n",
       "      <td>131646.0</td>\n",
       "    </tr>\n",
       "    <tr>\n",
       "      <th>2714</th>\n",
       "      <td>2021-07-08 00:00:00</td>\n",
       "      <td>2714.0</td>\n",
       "      <td>44846.0</td>\n",
       "      <td>130242.0</td>\n",
       "    </tr>\n",
       "    <tr>\n",
       "      <th>2712</th>\n",
       "      <td>2021-07-06 00:00:00</td>\n",
       "      <td>2712.0</td>\n",
       "      <td>44888.0</td>\n",
       "      <td>130198.0</td>\n",
       "    </tr>\n",
       "    <tr>\n",
       "      <th>2719</th>\n",
       "      <td>2021-07-13 00:00:00</td>\n",
       "      <td>2719.0</td>\n",
       "      <td>51996.0</td>\n",
       "      <td>125804.0</td>\n",
       "    </tr>\n",
       "    <tr>\n",
       "      <th>2718</th>\n",
       "      <td>2021-07-12 00:00:00</td>\n",
       "      <td>2718.0</td>\n",
       "      <td>51799.0</td>\n",
       "      <td>125449.0</td>\n",
       "    </tr>\n",
       "    <tr>\n",
       "      <th>2715</th>\n",
       "      <td>2021-07-09 00:00:00</td>\n",
       "      <td>2715.0</td>\n",
       "      <td>45299.0</td>\n",
       "      <td>125044.0</td>\n",
       "    </tr>\n",
       "    <tr>\n",
       "      <th>2713</th>\n",
       "      <td>2021-07-07 00:00:00</td>\n",
       "      <td>2713.0</td>\n",
       "      <td>43129.0</td>\n",
       "      <td>124551.0</td>\n",
       "    </tr>\n",
       "    <tr>\n",
       "      <th>2721</th>\n",
       "      <td>2021-07-15 00:00:00</td>\n",
       "      <td>2721.0</td>\n",
       "      <td>51433.0</td>\n",
       "      <td>123284.0</td>\n",
       "    </tr>\n",
       "    <tr>\n",
       "      <th>2716</th>\n",
       "      <td>2021-07-10 00:00:00</td>\n",
       "      <td>2716.0</td>\n",
       "      <td>52919.0</td>\n",
       "      <td>119905.0</td>\n",
       "    </tr>\n",
       "    <tr>\n",
       "      <th>2738</th>\n",
       "      <td>2021-08-01 00:00:00</td>\n",
       "      <td>2738.0</td>\n",
       "      <td>62930.0</td>\n",
       "      <td>117675.0</td>\n",
       "    </tr>\n",
       "    <tr>\n",
       "      <th>2728</th>\n",
       "      <td>2021-07-22 00:00:00</td>\n",
       "      <td>2728.0</td>\n",
       "      <td>52136.0</td>\n",
       "      <td>116809.0</td>\n",
       "    </tr>\n",
       "    <tr>\n",
       "      <th>2720</th>\n",
       "      <td>2021-07-14 00:00:00</td>\n",
       "      <td>2720.0</td>\n",
       "      <td>51553.0</td>\n",
       "      <td>115786.0</td>\n",
       "    </tr>\n",
       "    <tr>\n",
       "      <th>2740</th>\n",
       "      <td>2021-08-03 00:00:00</td>\n",
       "      <td>2740.0</td>\n",
       "      <td>53687.0</td>\n",
       "      <td>110355.0</td>\n",
       "    </tr>\n",
       "  </tbody>\n",
       "</table>\n",
       "</div>"
      ],
      "text/plain": [
       "                 DateTime  Days From Launch  Players  Twitch Viewers\n",
       "2709  2021-07-03 00:00:00            2709.0  42068.0        221605.0\n",
       "2710  2021-07-04 00:00:00            2710.0  47542.0        199007.0\n",
       "2717  2021-07-11 00:00:00            2717.0  58046.0        162904.0\n",
       "2562  2021-02-06 00:00:00            2562.0  30680.0        149220.0\n",
       "2660  2021-05-15 00:00:00            2660.0  32324.0        144282.0\n",
       "2724  2021-07-18 00:00:00            2724.0  67148.0        140160.0\n",
       "1876  2019-03-23 00:00:00            1876.0  14242.0        134069.0\n",
       "2786  2021-09-18 00:00:00            2786.0  47927.0        131646.0\n",
       "2714  2021-07-08 00:00:00            2714.0  44846.0        130242.0\n",
       "2712  2021-07-06 00:00:00            2712.0  44888.0        130198.0\n",
       "2719  2021-07-13 00:00:00            2719.0  51996.0        125804.0\n",
       "2718  2021-07-12 00:00:00            2718.0  51799.0        125449.0\n",
       "2715  2021-07-09 00:00:00            2715.0  45299.0        125044.0\n",
       "2713  2021-07-07 00:00:00            2713.0  43129.0        124551.0\n",
       "2721  2021-07-15 00:00:00            2721.0  51433.0        123284.0\n",
       "2716  2021-07-10 00:00:00            2716.0  52919.0        119905.0\n",
       "2738  2021-08-01 00:00:00            2738.0  62930.0        117675.0\n",
       "2728  2021-07-22 00:00:00            2728.0  52136.0        116809.0\n",
       "2720  2021-07-14 00:00:00            2720.0  51553.0        115786.0\n",
       "2740  2021-08-03 00:00:00            2740.0  53687.0        110355.0"
      ]
     },
     "execution_count": 10,
     "metadata": {},
     "output_type": "execute_result"
    }
   ],
   "source": [
    "data_twitch = data.sort_values(by = ['Twitch Viewers'], ascending = False)\n",
    "data_twitch = data_twitch[np.logical_not(data_twitch['Days From Launch']\\\n",
    "                                         .isin(launch_days))]\n",
    "data_twitch.head(20)"
   ]
  },
  {
   "cell_type": "markdown",
   "id": "pleased-taiwan",
   "metadata": {},
   "source": [
    "We can see that plenty of the largest Twitch Viewer entries occur within the weeks that Asmongold started playing FFXIV, so we should expect an extreme concurrent player spike in the weeks following July 3, 2021 (or 2709 days after launch).\n",
    "\n",
    "Now that we have a good idea of all of the local and persistent longtime spikes in our data, we can plot our data and see whether our conceptions check out."
   ]
  },
  {
   "cell_type": "code",
   "execution_count": 11,
   "id": "agreed-pencil",
   "metadata": {
    "scrolled": true
   },
   "outputs": [
    {
     "data": {
      "text/plain": [
       "<Figure size 432x288 with 0 Axes>"
      ]
     },
     "metadata": {},
     "output_type": "display_data"
    },
    {
     "data": {
      "image/png": "[encoded data removed]",
      "text/plain": [
       "<Figure size 432x288 with 1 Axes>"
      ]
     },
     "metadata": {
      "needs_background": "light"
     },
     "output_type": "display_data"
    }
   ],
   "source": [
    "plt.figure()\n",
    "ax1 = data.plot.scatter(x = 'Days From Launch', y = 'Players',\\\n",
    "    title='Concurrent Players Over Time')\n",
    "plt.xlabel('Days From Launch')\n",
    "plt.ylabel('Concurrent Players')\n",
    "plt.show()"
   ]
  },
  {
   "cell_type": "markdown",
   "id": "alone-singapore",
   "metadata": {},
   "source": [
    "We can see that the chart perfectly aligns with our assumptions. The expansion releases are the local maxima that begin to shape the curve, with a special exception to the extreme popularity boost the game got when Asmongold joined.\n",
    "\n",
    "Our goal is to predict future congestion, so ideally we want to predict the absolute maximum by the next expansion. For this, we should isolate the maxima and perform linear regression.\n",
    "\n",
    "We should also perform a second regression on the entire dataset to provide predictions for the post-maxima set of concurrent players, which will more closely represent the game's resting population."
   ]
  },
  {
   "cell_type": "markdown",
   "id": "smaller-venue",
   "metadata": {},
   "source": [
    "## Part 3 - Creating a Good Model\n",
    "\n",
    "First, let us begin with our first goal - predicting peak congestion on the next expansion's launch. We want to use the local maxima of the graph, which include the launch dates of each expansion AND Asmongold's first day on the game - July 3, 2021."
   ]
  },
  {
   "cell_type": "code",
   "execution_count": 12,
   "id": "disciplinary-steel",
   "metadata": {},
   "outputs": [
    {
     "data": {
      "text/plain": [
       "Text(0.5, 1.0, 'Concurrent Players on Historical Dates')"
      ]
     },
     "execution_count": 12,
     "metadata": {},
     "output_type": "execute_result"
    },
    {
     "data": {
      "image/png": "[encoded data removed]",
      "text/plain": [
       "<Figure size 360x360 with 1 Axes>"
      ]
     },
     "metadata": {
      "needs_background": "light"
     },
     "output_type": "display_data"
    }
   ],
   "source": [
    "peak_days = launch_days.copy()\n",
    "peak_days.append(2709)\n",
    "\n",
    "# Set regression order for the peak data\n",
    "reg_order_peak = 3\n",
    "\n",
    "# Get a dataframe of data only from the peak days\n",
    "data_peak = data[data['Days From Launch'].isin(peak_days)]\n",
    "\n",
    "# Create graph with line of best fit\n",
    "lnpl = sns.lmplot(x = 'Days From Launch', y = 'Players', data = data_peak,\\\n",
    "    fit_reg = True, order = reg_order_peak, ci = None,\\\n",
    "    line_kws = {\"color\": \"black\"})\n",
    "lnpl.set(xlabel = 'Days From Launch', ylabel = 'Concurrent Players')\n",
    "lnpl.set(xlim = (0, 3000))\n",
    "ax = plt.gca()\n",
    "ax.set_title(\"Concurrent Players on Historical Dates\")"
   ]
  },
  {
   "cell_type": "code",
   "execution_count": 13,
   "id": "premium-burns",
   "metadata": {},
   "outputs": [
    {
     "name": "stdout",
     "output_type": "stream",
     "text": [
      "[ 1.87121201e-05 -8.11163803e-02  1.17524943e+02 -3.10833755e+04]\n"
     ]
    }
   ],
   "source": [
    "# Now we need to find the equation for this line!\n",
    "peak_fit = np.polyfit(\\\n",
    "    data_peak['Days From Launch'], data_peak['Players'], reg_order_peak)\n",
    "\n",
    "print(peak_fit)"
   ]
  },
  {
   "cell_type": "markdown",
   "id": "ecological-investment",
   "metadata": {},
   "source": [
    "Now we know that the line of best fit for our peak concurrent users has the above coefficients. We can use these to easily make predictions with a function."
   ]
  },
  {
   "cell_type": "code",
   "execution_count": 14,
   "id": "norwegian-profile",
   "metadata": {},
   "outputs": [],
   "source": [
    "linreg_peak = np.poly1d(peak_fit)"
   ]
  },
  {
   "cell_type": "markdown",
   "id": "parental-karen",
   "metadata": {},
   "source": [
    "Now, we make a residual plot to figure out how well our regression line does against our real data."
   ]
  },
  {
   "cell_type": "code",
   "execution_count": 15,
   "id": "disturbed-daughter",
   "metadata": {},
   "outputs": [
    {
     "data": {
      "text/plain": [
       "<Figure size 432x288 with 0 Axes>"
      ]
     },
     "metadata": {},
     "output_type": "display_data"
    },
    {
     "data": {
      "image/png": "[encoded data removed]",
      "text/plain": [
       "<Figure size 432x288 with 1 Axes>"
      ]
     },
     "metadata": {
      "needs_background": "light"
     },
     "output_type": "display_data"
    }
   ],
   "source": [
    "data_peak.insert(loc = 4, column = 'Residual', value = np.nan)\n",
    "\n",
    "for i in peak_days:\n",
    "    day_rows = data_peak.loc[data_peak['Days From Launch'] == i]\n",
    "    for index, row in day_rows.iterrows():\n",
    "        residual = np.absolute(linreg_peak(i) - row['Players'])\n",
    "        data_peak.at[index, 'Residual'] = residual\n",
    "    \n",
    "# Draw violin plot\n",
    "plt.figure()\n",
    "ax1 = data_peak.plot.scatter(x = 'Days From Launch', y = 'Residual',\\\n",
    "    title='Peak Concurrent Player Residuals')\n",
    "plt.xlabel('Days From Launch')\n",
    "plt.ylabel('Residual')\n",
    "plt.show()"
   ]
  },
  {
   "cell_type": "markdown",
   "id": "demanding-newcastle",
   "metadata": {},
   "source": [
    "These residuals seem quite troublesome, especially the July 3, 2021 entry. This means it is quite the outlier in the trend, but we do not have many more peak points to go on if we are to predict peak congestion by the next expansion. A large margin of error is expected here.\n",
    "\n",
    "Let's continue analysis on the entire graph this time, to get a more consistent line of best fit for the rest of the chart. A regression on the entire dataset may provide a better guess at future values, even if it may not predict the initial expansion release congestion."
   ]
  },
  {
   "cell_type": "code",
   "execution_count": 16,
   "id": "challenging-homeless",
   "metadata": {},
   "outputs": [
    {
     "data": {
      "text/plain": [
       "Text(0.5, 1.0, 'Concurrent Players Over Time')"
      ]
     },
     "execution_count": 16,
     "metadata": {},
     "output_type": "execute_result"
    },
    {
     "data": {
      "image/png": "[encoded data removed]",
      "text/plain": [
       "<Figure size 360x360 with 1 Axes>"
      ]
     },
     "metadata": {
      "needs_background": "light"
     },
     "output_type": "display_data"
    }
   ],
   "source": [
    "# Regression order for all of the data overall\n",
    "reg_order_overall = 3\n",
    "\n",
    "# Create graph with line of best fit\n",
    "lnpl = sns.lmplot(x = 'Days From Launch', y = 'Players', data = data,\\\n",
    "    fit_reg = True, order = reg_order_overall, ci = None,\\\n",
    "    line_kws = {\"color\": \"black\"})\n",
    "lnpl.set(xlabel = 'Days From Launch', ylabel = 'Concurrent Players')\n",
    "lnpl.set(xlim = (0, 3000))\n",
    "ax = plt.gca()\n",
    "ax.set_title(\"Concurrent Players Over Time\")"
   ]
  },
  {
   "cell_type": "code",
   "execution_count": 17,
   "id": "electoral-civilian",
   "metadata": {},
   "outputs": [
    {
     "name": "stdout",
     "output_type": "stream",
     "text": [
      "[ 5.97532505e-06 -1.88189253e-02  2.05902483e+01  5.79850704e+02]\n"
     ]
    }
   ],
   "source": [
    "# Find equation for the line\n",
    "overall_fit = np.polyfit(\\\n",
    "    data['Days From Launch'], data['Players'], reg_order_overall)\n",
    "\n",
    "print(overall_fit)\n",
    "\n",
    "linreg_overall = np.poly1d(overall_fit)"
   ]
  },
  {
   "cell_type": "markdown",
   "id": "welcome-percentage",
   "metadata": {},
   "source": [
    "And now to test the residuals for this model..."
   ]
  },
  {
   "cell_type": "code",
   "execution_count": 18,
   "id": "hearing-blowing",
   "metadata": {},
   "outputs": [
    {
     "data": {
      "text/plain": [
       "<Figure size 432x288 with 0 Axes>"
      ]
     },
     "metadata": {},
     "output_type": "display_data"
    },
    {
     "data": {
      "image/png": "[encoded data removed]",
      "text/plain": [
       "<Figure size 432x288 with 1 Axes>"
      ]
     },
     "metadata": {
      "needs_background": "light"
     },
     "output_type": "display_data"
    }
   ],
   "source": [
    "data.insert(loc = 4, column = 'Residual', value = np.nan)\n",
    "\n",
    "for index, row in data.iterrows():\n",
    "    residual = np.absolute(linreg_overall(\\\n",
    "        row['Days From Launch']) - row['Players'])\n",
    "    data.at[index, 'Residual'] = residual\n",
    "    \n",
    "# Draw violin plot\n",
    "plt.figure()\n",
    "ax1 = data.plot.scatter(x = 'Days From Launch', y = 'Residual',\\\n",
    "    title='Peak Concurrent Player Residuals')\n",
    "plt.xlabel('Days From Launch')\n",
    "plt.ylabel('Residual')\n",
    "plt.show()"
   ]
  },
  {
   "cell_type": "markdown",
   "id": "running-approval",
   "metadata": {},
   "source": [
    "As shown by the above residual plot, the residuals are relatively low, minus the spikes which are unaccounted for by the general trend. This lines up with our expectations, so it seems we have a good model. Increasing the polynomial degree did not do much to decrease the outlying residuals either."
   ]
  },
  {
   "cell_type": "markdown",
   "id": "familiar-groove",
   "metadata": {},
   "source": [
    "## Part 4 - Using our Models for Prediction\n",
    "\n",
    "Now that we have good models set up for our values, all we need to do is plug some future numbers in for both our peak and overall models. We also need to account for the standard duration of a peak, be it 10 or 20 days overall.\n",
    "\n",
    "First, we should find out just how long a peak lasts. The duration of the Shadowbringers peak would be a good place to look!"
   ]
  },
  {
   "cell_type": "code",
   "execution_count": 19,
   "id": "chinese-slide",
   "metadata": {},
   "outputs": [
    {
     "data": {
      "text/html": [
       "<div>\n",
       "<style scoped>\n",
       "    .dataframe tbody tr th:only-of-type {\n",
       "        vertical-align: middle;\n",
       "    }\n",
       "\n",
       "    .dataframe tbody tr th {\n",
       "        vertical-align: top;\n",
       "    }\n",
       "\n",
       "    .dataframe thead th {\n",
       "        text-align: right;\n",
       "    }\n",
       "</style>\n",
       "<table border=\"1\" class=\"dataframe\">\n",
       "  <thead>\n",
       "    <tr style=\"text-align: right;\">\n",
       "      <th></th>\n",
       "      <th>DateTime</th>\n",
       "      <th>Days From Launch</th>\n",
       "      <th>Players</th>\n",
       "      <th>Twitch Viewers</th>\n",
       "      <th>Residual</th>\n",
       "    </tr>\n",
       "  </thead>\n",
       "  <tbody>\n",
       "    <tr>\n",
       "      <th>2028</th>\n",
       "      <td>2019-08-22 00:00:00</td>\n",
       "      <td>2028.0</td>\n",
       "      <td>19343.0</td>\n",
       "      <td>9557.0</td>\n",
       "      <td>4565.751833</td>\n",
       "    </tr>\n",
       "    <tr>\n",
       "      <th>2029</th>\n",
       "      <td>2019-08-23 00:00:00</td>\n",
       "      <td>2029.0</td>\n",
       "      <td>18899.0</td>\n",
       "      <td>9118.0</td>\n",
       "      <td>4103.747941</td>\n",
       "    </tr>\n",
       "    <tr>\n",
       "      <th>2032</th>\n",
       "      <td>2019-08-26 00:00:00</td>\n",
       "      <td>2032.0</td>\n",
       "      <td>19619.0</td>\n",
       "      <td>5649.0</td>\n",
       "      <td>4769.525487</td>\n",
       "    </tr>\n",
       "    <tr>\n",
       "      <th>2033</th>\n",
       "      <td>2019-08-27 00:00:00</td>\n",
       "      <td>2033.0</td>\n",
       "      <td>18098.0</td>\n",
       "      <td>4782.0</td>\n",
       "      <td>3230.380956</td>\n",
       "    </tr>\n",
       "    <tr>\n",
       "      <th>2034</th>\n",
       "      <td>2019-08-28 00:00:00</td>\n",
       "      <td>2034.0</td>\n",
       "      <td>18511.0</td>\n",
       "      <td>6120.0</td>\n",
       "      <td>3625.201177</td>\n",
       "    </tr>\n",
       "  </tbody>\n",
       "</table>\n",
       "</div>"
      ],
      "text/plain": [
       "                 DateTime  Days From Launch  Players  Twitch Viewers  \\\n",
       "2028  2019-08-22 00:00:00            2028.0  19343.0          9557.0   \n",
       "2029  2019-08-23 00:00:00            2029.0  18899.0          9118.0   \n",
       "2032  2019-08-26 00:00:00            2032.0  19619.0          5649.0   \n",
       "2033  2019-08-27 00:00:00            2033.0  18098.0          4782.0   \n",
       "2034  2019-08-28 00:00:00            2034.0  18511.0          6120.0   \n",
       "\n",
       "         Residual  \n",
       "2028  4565.751833  \n",
       "2029  4103.747941  \n",
       "2032  4769.525487  \n",
       "2033  3230.380956  \n",
       "2034  3625.201177  "
      ]
     },
     "execution_count": 19,
     "metadata": {},
     "output_type": "execute_result"
    }
   ],
   "source": [
    "data[(data['Days From Launch'] >= 1973) & (data['Players'] <= 20000)].head()"
   ]
  },
  {
   "cell_type": "markdown",
   "id": "geological-sussex",
   "metadata": {},
   "source": [
    "The first occurrence of a return to normalcy after the Shadowbringers release peak was the 2028th day; 55 days after Shadowbringers Early Access. We can assume a peak will last around 60 days with this information.\n",
    "\n",
    "Keep in mind that we do not have a function for the *dropoff* after a peak, so we will only be able to predict the peak itself and the ~60 days after the peak, when normalcy returns. These are the only conditions are models are able to handle.\n",
    "\n",
    "Now, it's time to start predicting. Given every expansion releases within 2 years of another, we can assume the next expansion will release on December 3, 2023 (3592 days from launch). We can start predicting the normal population numbers around 60 days after (3752 days from launch).\n",
    "\n",
    "We first need to fill in the missing data between our last entry, December 17, 2021 (2876 days after launch), and December 3, 2023."
   ]
  },
  {
   "cell_type": "code",
   "execution_count": 20,
   "id": "frank-warehouse",
   "metadata": {},
   "outputs": [],
   "source": [
    "import datetime as dt\n",
    "\n",
    "for i in range(2876, 3592):\n",
    "    dict = {'DateTime': [datetime(2014, 2, 1) + dt.timedelta(days = i)],\\\n",
    "        'Days From Launch': [i],\\\n",
    "        'Players': [math.floor(linreg_overall(i))],\\\n",
    "        'Twitch Viewers': [0], 'Residual': [0]}\n",
    "    to_append = pd.DataFrame(dict)\n",
    "    data = data.append(to_append, ignore_index = True)"
   ]
  },
  {
   "cell_type": "markdown",
   "id": "alert-farming",
   "metadata": {},
   "source": [
    "Next, we add December 3, 2023 itself."
   ]
  },
  {
   "cell_type": "code",
   "execution_count": 21,
   "id": "dried-rates",
   "metadata": {},
   "outputs": [],
   "source": [
    "# Add December 3, 2023 to the dataframe\n",
    "dict = {'DateTime': [datetime(2014, 2, 1) + dt.timedelta(days = 3592)],\\\n",
    "    'Days From Launch': [3592],\\\n",
    "    'Players': [math.floor(linreg_peak(3592))],\\\n",
    "    'Twitch Viewers': [0], 'Residual': [0]}\n",
    "to_append = pd.DataFrame(dict)\n",
    "\n",
    "data = data.append(to_append, ignore_index = True)"
   ]
  },
  {
   "cell_type": "markdown",
   "id": "statewide-complexity",
   "metadata": {},
   "source": [
    "This will be the predicted peak value for the next expansion.\n",
    "\n",
    "Next, we calculate the next 500 days, 60 days after the peak to give us a good chunk of predicted information."
   ]
  },
  {
   "cell_type": "code",
   "execution_count": 22,
   "id": "approximate-sherman",
   "metadata": {},
   "outputs": [],
   "source": [
    "prediction_range = 3752 + 501\n",
    "for i in range(3752, prediction_range):\n",
    "    dict = {'DateTime': [datetime(2014, 2, 1) + dt.timedelta(days = i)],\\\n",
    "        'Days From Launch': [i],\\\n",
    "        'Players': [math.floor(linreg_overall(i))],\\\n",
    "        'Twitch Viewers': [0], 'Residual': [0]}\n",
    "    to_append = pd.DataFrame(dict)\n",
    "    data = data.append(to_append, ignore_index = True)"
   ]
  },
  {
   "cell_type": "markdown",
   "id": "great-chick",
   "metadata": {},
   "source": [
    "Finally, we plot our new dataset and see how much FFXIV has grown by April 16, 2025!"
   ]
  },
  {
   "cell_type": "code",
   "execution_count": 23,
   "id": "iraqi-depression",
   "metadata": {},
   "outputs": [
    {
     "data": {
      "text/plain": [
       "<Figure size 432x288 with 0 Axes>"
      ]
     },
     "metadata": {},
     "output_type": "display_data"
    },
    {
     "data": {
      "image/png": "[encoded data removed]",
      "text/plain": [
       "<Figure size 432x288 with 1 Axes>"
      ]
     },
     "metadata": {
      "needs_background": "light"
     },
     "output_type": "display_data"
    }
   ],
   "source": [
    "plt.figure()\n",
    "ax1 = data.plot.scatter(x = 'Days From Launch', y = 'Players',\\\n",
    "    title='Concurrent Players Over Time - Extrapolated')\n",
    "plt.xlabel('Days From Launch')\n",
    "plt.ylabel('Concurrent Players')\n",
    "plt.show()"
   ]
  },
  {
   "cell_type": "markdown",
   "id": "characteristic-doctor",
   "metadata": {},
   "source": [
    "With this model, we can see that on the next expansion's release, over 200,000 people will be trying to play the game! After it settles, well over 125,000 regular players will be online and its popularity will continue to grow over the years.\n",
    "\n",
    "At present, Square Enix's infrastructure would absolutely not be able to handle this! Of course it's all prediction, but they would have to do massive upgrades if the game continues to gain popularity at its current rate.\n",
    "\n",
    "Currently, Square Enix has actually stopped sales of the game to prevent it from getting any more popular, and now we can see why!\n",
    "\n",
    "The amount of demand on their servers and the shortage of server upgrade opportunities has been a massive struggle for Square Enix in regard to FFXIV, so more growth will certainly harm their business at this rate. Hopefully, they find some solutions soon, or they will have a lot of disappointed future players!\n",
    "\n",
    "Thank you for your time!"
   ]
  }
 ],
 "metadata": {
  "kernelspec": {
   "display_name": "Python 3",
   "language": "python",
   "name": "python3"
  },
  "language_info": {
   "codemirror_mode": {
    "name": "ipython",
    "version": 3
   },
   "file_extension": ".py",
   "mimetype": "text/x-python",
   "name": "python",
   "nbconvert_exporter": "python",
   "pygments_lexer": "ipython3",
   "version": "3.8.6"
  }
 },
 "nbformat": 4,
 "nbformat_minor": 5
}
